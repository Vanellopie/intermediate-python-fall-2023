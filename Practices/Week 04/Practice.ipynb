{
 "cells": [
  {
   "cell_type": "markdown",
   "id": "e219eb82-9d55-4739-a0ca-45288d355d2f",
   "metadata": {},
   "source": [
    "### Step 1: Create a package named `DfCleaner`"
   ]
  },
  {
   "cell_type": "markdown",
   "id": "c6059aba-5d48-4513-90b2-b9ddfdb9d518",
   "metadata": {},
   "source": [
    "### Step 2: Read the sample csv file\n",
    "* You need to read the `sample_employees.csv` file as a DataFrame and test your functions"
   ]
  },
  {
   "cell_type": "code",
   "execution_count": 11,
   "id": "e97051a5-7c86-4996-923a-f0f61b949fce",
   "metadata": {},
   "outputs": [
    {
     "ename": "AttributeError",
     "evalue": "module 'pandas' has no attribute 'sample_employee'",
     "output_type": "error",
     "traceback": [
      "\u001b[0;31m---------------------------------------------------------------------------\u001b[0m",
      "\u001b[0;31mAttributeError\u001b[0m                            Traceback (most recent call last)",
      "Cell \u001b[0;32mIn[11], line 2\u001b[0m\n\u001b[1;32m      1\u001b[0m \u001b[38;5;28;01mimport\u001b[39;00m \u001b[38;5;21;01mpandas\u001b[39;00m \u001b[38;5;28;01mas\u001b[39;00m \u001b[38;5;21;01mpd\u001b[39;00m\n\u001b[0;32m----> 2\u001b[0m \u001b[43mpd\u001b[49m\u001b[38;5;241;43m.\u001b[39;49m\u001b[43msample_employee\u001b[49m\u001b[38;5;241m.\u001b[39mcsv()\n\u001b[1;32m      3\u001b[0m data \u001b[38;5;241m=\u001b[39m pd\u001b[38;5;241m.\u001b[39msample_employeecsv(\u001b[38;5;124m'\u001b[39m\u001b[38;5;124mdata.csv\u001b[39m\u001b[38;5;124m'\u001b[39m)\n",
      "\u001b[0;31mAttributeError\u001b[0m: module 'pandas' has no attribute 'sample_employee'"
     ]
    }
   ],
   "source": [
    "import pandas as pd\n",
    "pd.sample_employee.csv()\n",
    "data = pd.sample_employeecsv('data.csv')"
   ]
  },
  {
   "cell_type": "markdown",
   "id": "cca2a6d7-2a48-4c82-816b-d3478d59370d",
   "metadata": {},
   "source": [
    "### Step 3: Create separate functions in `__init__.py`\n",
    "1. import pandas\n",
    "2. `drop_empty` takes pandas dataframe as an input and drops any row with empty value. Use pandas' `dropna`.\n",
    "    * Use sample `DataFrame` to test\n",
    "3. `fill_empty` takes pandas dataframe and column name as inputs and fills the given column's empty values using mean. Use pandas' `fillna`.\n",
    "    * Use sample `DataFrame` to test\n",
    "4. `drop_column` takes pandas dataframe and column name as inputs and drops the given column and returns the rest of the dataframe. Use pandas' `drop`.\n",
    "    * Use sample `DataFrame` to test\n",
    "5. `fix_index` takes pandas dataframe as an input and resets its index and returns it. Use pandas' `reset_index` and drop the old index column.\n",
    "    * Use sample `DataFrame` to test\n",
    "6. `fix_dates` takes pandas dataframe and column name as input. Changes given column's data type into datetime. Use pandas' `to_datetime` function.\n",
    "    * Use sample `DataFrame` to test"
   ]
  },
  {
   "cell_type": "code",
   "execution_count": 1,
   "id": "4d3b6489-01d3-413d-9fb6-96dc9e03db0a",
   "metadata": {},
   "outputs": [],
   "source": [
    "import pandas"
   ]
  },
  {
   "cell_type": "markdown",
   "id": "04f9be3f-529b-49cd-8b35-63d29c47ad71",
   "metadata": {},
   "source": [
    "### Step 4: CONVERT YOUR PACKAGE INTO A `CLASS` BASED PACKAGE\n",
    "#### Create a new file called `cleaner.py` and copy paste `__init__.py`'s code.\n",
    "#### Your `__init__.py` must remain empty.\n",
    "\n",
    "1. Convert all of your package functions into class *methods*\n",
    "2. Import your package like the following: `from DfCleaner.cleaner import Cleaner`\n",
    "3. Test your class methods using `sample_employees.csv` file\n",
    "\n",
    "\n"
   ]
  },
  {
   "cell_type": "code",
   "execution_count": 2,
   "id": "b97392ec-3e15-45d7-8205-58ae57b60e45",
   "metadata": {},
   "outputs": [
    {
     "ename": "NameError",
     "evalue": "name 'data' is not defined",
     "output_type": "error",
     "traceback": [
      "\u001b[0;31m---------------------------------------------------------------------------\u001b[0m",
      "\u001b[0;31mNameError\u001b[0m                                 Traceback (most recent call last)",
      "Cell \u001b[0;32mIn[2], line 1\u001b[0m\n\u001b[0;32m----> 1\u001b[0m \u001b[38;5;28;01mimport\u001b[39;00m \u001b[38;5;21;01mDfCleaner\u001b[39;00m\n\u001b[1;32m      2\u001b[0m \u001b[38;5;28;01mimport\u001b[39;00m \u001b[38;5;21;01mpandas\u001b[39;00m \u001b[38;5;28;01mas\u001b[39;00m \u001b[38;5;21;01mpd\u001b[39;00m\n",
      "File \u001b[0;32m~/Documents/GitHub/intermediate-python-fall-2023/Practices/Week 04/DfCleaner/__init__.py:3\u001b[0m\n\u001b[1;32m      1\u001b[0m \u001b[38;5;28;01mimport\u001b[39;00m \u001b[38;5;21;01mpandas\u001b[39;00m \u001b[38;5;28;01mas\u001b[39;00m \u001b[38;5;21;01mpd\u001b[39;00m\n\u001b[0;32m----> 3\u001b[0m df \u001b[38;5;241m=\u001b[39m pd\u001b[38;5;241m.\u001b[39mDataFrame(\u001b[43mdata\u001b[49m)\n\u001b[1;32m      5\u001b[0m \u001b[38;5;66;03m# Function to drop rows with empty values using dropna\u001b[39;00m\n\u001b[1;32m      6\u001b[0m \u001b[38;5;28;01mdef\u001b[39;00m \u001b[38;5;21mdrop_empty\u001b[39m(df):\n",
      "\u001b[0;31mNameError\u001b[0m: name 'data' is not defined"
     ]
    }
   ],
   "source": [
    "import DfCleaner\n",
    "import pandas as pd"
   ]
  },
  {
   "cell_type": "code",
   "execution_count": 5,
   "id": "600b6188-4737-4184-af58-cfcc50cc906e",
   "metadata": {},
   "outputs": [
    {
     "ename": "NameError",
     "evalue": "name 'pd' is not defined",
     "output_type": "error",
     "traceback": [
      "\u001b[0;31m---------------------------------------------------------------------------\u001b[0m",
      "\u001b[0;31mNameError\u001b[0m                                 Traceback (most recent call last)",
      "Cell \u001b[0;32mIn[5], line 1\u001b[0m\n\u001b[0;32m----> 1\u001b[0m df \u001b[38;5;241m=\u001b[39m \u001b[43mpd\u001b[49m\u001b[38;5;241m.\u001b[39mread__csv(\u001b[38;5;124m\"\u001b[39m\u001b[38;5;124msample_employees.csv\u001b[39m\u001b[38;5;124m\"\u001b[39m)\n",
      "\u001b[0;31mNameError\u001b[0m: name 'pd' is not defined"
     ]
    }
   ],
   "source": [
    "df = pd.read__csv(\"sample_employees.csv\")"
   ]
  },
  {
   "cell_type": "code",
   "execution_count": 4,
   "id": "413458ab-4adc-4f53-b302-21419a8d3763",
   "metadata": {},
   "outputs": [
    {
     "ename": "NameError",
     "evalue": "name 'df' is not defined",
     "output_type": "error",
     "traceback": [
      "\u001b[0;31m---------------------------------------------------------------------------\u001b[0m",
      "\u001b[0;31mNameError\u001b[0m                                 Traceback (most recent call last)",
      "Cell \u001b[0;32mIn[4], line 1\u001b[0m\n\u001b[0;32m----> 1\u001b[0m \u001b[43mdf\u001b[49m\n",
      "\u001b[0;31mNameError\u001b[0m: name 'df' is not defined"
     ]
    }
   ],
   "source": [
    "df"
   ]
  },
  {
   "cell_type": "code",
   "execution_count": 7,
   "id": "6c4859b1-4d64-49ba-9789-891f0cd0f4e8",
   "metadata": {},
   "outputs": [],
   "source": [
    "def drop_empty(df):\n",
    "    return df.dropna()"
   ]
  },
  {
   "cell_type": "code",
   "execution_count": 8,
   "id": "66928ee0-3af9-4f93-a742-85900c709aaf",
   "metadata": {},
   "outputs": [
    {
     "ename": "NameError",
     "evalue": "name 'df' is not defined",
     "output_type": "error",
     "traceback": [
      "\u001b[0;31m---------------------------------------------------------------------------\u001b[0m",
      "\u001b[0;31mNameError\u001b[0m                                 Traceback (most recent call last)",
      "Cell \u001b[0;32mIn[8], line 1\u001b[0m\n\u001b[0;32m----> 1\u001b[0m \u001b[38;5;28mlen\u001b[39m(\u001b[43mdf\u001b[49m)\n",
      "\u001b[0;31mNameError\u001b[0m: name 'df' is not defined"
     ]
    }
   ],
   "source": [
    "len(df)"
   ]
  }
 ],
 "metadata": {
  "kernelspec": {
   "display_name": "Python 3 (ipykernel)",
   "language": "python",
   "name": "python3"
  },
  "language_info": {
   "codemirror_mode": {
    "name": "ipython",
    "version": 3
   },
   "file_extension": ".py",
   "mimetype": "text/x-python",
   "name": "python",
   "nbconvert_exporter": "python",
   "pygments_lexer": "ipython3",
   "version": "3.8.17"
  }
 },
 "nbformat": 4,
 "nbformat_minor": 5
}
