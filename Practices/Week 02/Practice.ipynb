{
 "cells": [
  {
   "cell_type": "markdown",
   "id": "f2d229f4-f1d6-4a63-9da8-f2268b06d3f0",
   "metadata": {},
   "source": [
    "### Practice decorator"
   ]
  },
  {
   "cell_type": "markdown",
   "id": "752654f9-119f-4d2d-b89f-b9c3d05035c4",
   "metadata": {
    "tags": []
   },
   "source": [
    "#### Step 1: Create a function to calculate Body Mass Index.\n",
    "Body Mass Index is a simple calculation using a person's height and weight.\n",
    "\n",
    "The formula is `BMI = kg/m2` where kg is a person's weight in kilograms and m2 is their height in centimetres squared.\n",
    "Your function should take **weight** and **height** as inputs and return a bmi. Example: `yourfunction(78, 175)` should return 0.002553\n",
    "| BMI       | Status      |\n",
    "|-----------|-------------|\n",
    "| <= 18.4   | Underweight |\n",
    "| 18.5-24.9 | Normal      |\n",
    "| 25.0-39.9 | Overweight  |\n",
    "| >= 40.0   | Obese       |"
   ]
  },
  {
   "cell_type": "code",
   "execution_count": 37,
   "id": "50bce78c-f441-4aae-82e3-2cb983a08235",
   "metadata": {},
   "outputs": [],
   "source": [
    "# Write your code\n",
    "def add(x, y):\n",
    "    return x / (y ** 2)\n",
    "    \n",
    "#add(78, 175)\n",
    "bmi = add(78, 175)"
   ]
  },
  {
   "cell_type": "markdown",
   "id": "ae894211-e0aa-498a-ac21-0b19a965a089",
   "metadata": {
    "tags": []
   },
   "source": [
    "#### Step 2: Create a function to round up BMI\n",
    "Example: BMI of `0.0025535446391522234` should return `25.5`\n"
   ]
  },
  {
   "cell_type": "code",
   "execution_count": 49,
   "id": "76e57b7e-2805-426e-b335-19404fe2e0c9",
   "metadata": {},
   "outputs": [
    {
     "data": {
      "text/plain": [
       "25.46938775510204"
      ]
     },
     "execution_count": 49,
     "metadata": {},
     "output_type": "execute_result"
    }
   ],
   "source": [
    "# Write your code\n",
    "def rounder(bmi):\n",
    "    return bmi * 10000\n",
    "    \n",
    "rounder(bmi)"
   ]
  },
  {
   "cell_type": "markdown",
   "id": "ef07e003-c1c2-48ba-ae8a-b02e1884497e",
   "metadata": {},
   "source": [
    "#### Step 3: Create a function to convert BMI into their Status\n",
    "Example: BMI of 21 should return `Normal`"
   ]
  },
  {
   "cell_type": "code",
   "execution_count": 63,
   "id": "1f0d0a29-1cd0-4699-bdef-9deb567a1453",
   "metadata": {},
   "outputs": [],
   "source": [
    "# Write your cod\n",
    "def bmi_status(bmi):\n",
    " #   status = \"\"\n",
    "    if bmi <= 18.4:\n",
    "        return \"underweight\"\n",
    "    elif bmi > 18.5 and bmi < 24.9:\n",
    "        return \"Normal\"\n",
    "    elif  bmi > 25 and bmi < 39.9:\n",
    "        return \"Overweight\"\n",
    "    else:\n",
    "        return \"Obese\""
   ]
  },
  {
   "cell_type": "code",
   "execution_count": 59,
   "id": "cdd38cd6-1c10-4d1e-a694-11fef222be08",
   "metadata": {},
   "outputs": [
    {
     "data": {
      "text/plain": [
       "'underweight'"
      ]
     },
     "execution_count": 59,
     "metadata": {},
     "output_type": "execute_result"
    }
   ],
   "source": [
    "bmi_status(bmi)"
   ]
  },
  {
   "cell_type": "markdown",
   "id": "a5f349bc-549c-4ac1-9588-65e662637e72",
   "metadata": {
    "tags": []
   },
   "source": [
    "#### Step 4: Test your function to get the correct output\n",
    "Call your functions in correct order. Entering weight of 78 and height of 175 should return **Overweight**."
   ]
  },
  {
   "cell_type": "code",
   "execution_count": 64,
   "id": "091aa05f-8be5-44a1-808c-d4ac38514589",
   "metadata": {},
   "outputs": [
    {
     "data": {
      "text/plain": [
       "'Overweight'"
      ]
     },
     "execution_count": 64,
     "metadata": {},
     "output_type": "execute_result"
    }
   ],
   "source": [
    "# Write your code\n",
    "bmi_status(rounder(add(78, 175)))"
   ]
  },
  {
   "cell_type": "markdown",
   "id": "5e3fa6e0-3e2a-4012-a174-8e12a9118bc3",
   "metadata": {},
   "source": [
    "#### Step 5: Make a Decorator function on `Step 2`\n",
    "Example: \n",
    "```\n",
    "def squared_dec(f):\n",
    "  def wrapper(*args, **kwargs):\n",
    "    rv = f(*args, **kwargs)\n",
    "    return rv ** 2\n",
    "  return wrapper\n",
    "```"
   ]
  },
  {
   "cell_type": "code",
   "execution_count": 65,
   "id": "8ab0e5df-9133-42e7-a9ca-519b941d4b24",
   "metadata": {},
   "outputs": [],
   "source": [
    "# Write your code\n",
    "def rounder(func):\n",
    "    def wrapper(*args, **kwargs):\n",
    "        rv = func(*args, **kwargs)\n",
    "        return rv * 10000\n",
    "    return wrapper"
   ]
  },
  {
   "cell_type": "markdown",
   "id": "7b86f769-81ad-4716-b954-749f171e9c2b",
   "metadata": {
    "tags": []
   },
   "source": [
    "#### Step 6: Make a Decorator function on `Step 3`\n",
    "Example: \n",
    "```\n",
    "def squared_dec(f):\n",
    "  def wrapper(*args, **kwargs):\n",
    "    rv = f(*args, **kwargs)\n",
    "    return rv ** 2\n",
    "  return wrapper\n",
    "```"
   ]
  },
  {
   "cell_type": "code",
   "execution_count": 75,
   "id": "dcbc28bd-e3e9-4cc3-9d27-605880faa2d2",
   "metadata": {},
   "outputs": [],
   "source": [
    "# Write your code\n",
    "def bmi_status(func):\n",
    "    def wrapper(*args, **kwargs):\n",
    "        rv = func(*args, **kwargs)\n",
    "        if rv <= 18.4:\n",
    "            return \"underweight\"\n",
    "        elif rv > 18.5 and rv < 24.9:\n",
    "            return \"Normal\"\n",
    "        elif  rv > 25 and rv < 39.9:\n",
    "            return \"Overweight\"\n",
    "        else:\n",
    "            return \"Obese\"\n",
    "        return status\n",
    "    return wrapper"
   ]
  },
  {
   "cell_type": "markdown",
   "id": "49dbf889-4c6e-4d9b-8041-b56ce969ea59",
   "metadata": {
    "tags": []
   },
   "source": [
    "#### Step 7: Decorate `Step 1's` function with `Step 2`\n",
    "Example: \n",
    "```\n",
    "@myfunction\n",
    "def test():\n",
    "  return\n",
    "```"
   ]
  },
  {
   "cell_type": "code",
   "execution_count": 79,
   "id": "6b5a2f93-1955-4a99-855a-55f4bfaea2a4",
   "metadata": {},
   "outputs": [
    {
     "data": {
      "text/plain": [
       "25.46938775510204"
      ]
     },
     "execution_count": 79,
     "metadata": {},
     "output_type": "execute_result"
    }
   ],
   "source": [
    "# Write your code\n",
    "\n",
    "@rounder\n",
    "def add(x, y):\n",
    "    return x / (y ** 2)\n",
    "add(78, 175)"
   ]
  },
  {
   "cell_type": "markdown",
   "id": "d393e0d2-f51f-44c9-a1db-7fe0d439355f",
   "metadata": {
    "tags": []
   },
   "source": [
    "#### Step 8: Decorate `Step 1's` function with `Step 2` and `Step 3` functions in correct order\n",
    "Example: \n",
    "```\n",
    "@mytest\n",
    "@myfunction\n",
    "def test():\n",
    "  return\n",
    "```"
   ]
  },
  {
   "cell_type": "code",
   "execution_count": 80,
   "id": "ebcb8167-2f1b-47aa-8162-ad06450c920d",
   "metadata": {},
   "outputs": [
    {
     "ename": "TypeError",
     "evalue": "add() missing 1 required positional argument: 'y'",
     "output_type": "error",
     "traceback": [
      "\u001b[0;31m---------------------------------------------------------------------------\u001b[0m",
      "\u001b[0;31mTypeError\u001b[0m                                 Traceback (most recent call last)",
      "Cell \u001b[0;32mIn[80], line 4\u001b[0m\n\u001b[1;32m      1\u001b[0m \u001b[38;5;66;03m# Write your code\u001b[39;00m\n\u001b[1;32m      2\u001b[0m \u001b[38;5;129;43m@add\u001b[39;49m\n\u001b[1;32m      3\u001b[0m \u001b[38;5;129;43m@rounder\u001b[39;49m\u001b[43m \u001b[49m\n\u001b[0;32m----> 4\u001b[0m \u001b[38;5;28;43;01mdef\u001b[39;49;00m\u001b[43m \u001b[49m\u001b[38;5;21;43madd\u001b[39;49m\u001b[43m(\u001b[49m\u001b[43mx\u001b[49m\u001b[43m,\u001b[49m\u001b[43m \u001b[49m\u001b[43my\u001b[49m\u001b[43m)\u001b[49m\u001b[43m:\u001b[49m\n\u001b[1;32m      5\u001b[0m \u001b[43m    \u001b[49m\u001b[38;5;28;43;01mreturn\u001b[39;49;00m\u001b[43m \u001b[49m\u001b[43mx\u001b[49m\u001b[43m \u001b[49m\u001b[38;5;241;43m/\u001b[39;49m\u001b[43m \u001b[49m\u001b[43m(\u001b[49m\u001b[43my\u001b[49m\u001b[43m \u001b[49m\u001b[38;5;241;43m*\u001b[39;49m\u001b[38;5;241;43m*\u001b[39;49m\u001b[43m \u001b[49m\u001b[38;5;241;43m2\u001b[39;49m\u001b[43m)\u001b[49m\n\u001b[1;32m      6\u001b[0m add(\u001b[38;5;241m78\u001b[39m, \u001b[38;5;241m175\u001b[39m)\n",
      "Cell \u001b[0;32mIn[65], line 4\u001b[0m, in \u001b[0;36mrounder.<locals>.wrapper\u001b[0;34m(*args, **kwargs)\u001b[0m\n\u001b[1;32m      3\u001b[0m \u001b[38;5;28;01mdef\u001b[39;00m \u001b[38;5;21mwrapper\u001b[39m(\u001b[38;5;241m*\u001b[39margs, \u001b[38;5;241m*\u001b[39m\u001b[38;5;241m*\u001b[39mkwargs):\n\u001b[0;32m----> 4\u001b[0m     rv \u001b[38;5;241m=\u001b[39m \u001b[43mfunc\u001b[49m\u001b[43m(\u001b[49m\u001b[38;5;241;43m*\u001b[39;49m\u001b[43margs\u001b[49m\u001b[43m,\u001b[49m\u001b[43m \u001b[49m\u001b[38;5;241;43m*\u001b[39;49m\u001b[38;5;241;43m*\u001b[39;49m\u001b[43mkwargs\u001b[49m\u001b[43m)\u001b[49m\n\u001b[1;32m      5\u001b[0m     \u001b[38;5;28;01mreturn\u001b[39;00m rv \u001b[38;5;241m*\u001b[39m \u001b[38;5;241m10000\u001b[39m\n",
      "\u001b[0;31mTypeError\u001b[0m: add() missing 1 required positional argument: 'y'"
     ]
    }
   ],
   "source": [
    "# Write your code\n",
    "@add\n",
    "@rounder \n",
    "def add(x, y):\n",
    "    return x / (y ** 2)\n",
    "add(78, 175)"
   ]
  }
 ],
 "metadata": {
  "kernelspec": {
   "display_name": "Python 3 (ipykernel)",
   "language": "python",
   "name": "python3"
  },
  "language_info": {
   "codemirror_mode": {
    "name": "ipython",
    "version": 3
   },
   "file_extension": ".py",
   "mimetype": "text/x-python",
   "name": "python",
   "nbconvert_exporter": "python",
   "pygments_lexer": "ipython3",
   "version": "3.8.17"
  }
 },
 "nbformat": 4,
 "nbformat_minor": 5
}
